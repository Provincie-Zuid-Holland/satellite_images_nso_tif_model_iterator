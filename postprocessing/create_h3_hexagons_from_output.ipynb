{
 "cells": [
  {
   "cell_type": "code",
   "execution_count": 1,
   "metadata": {},
   "outputs": [],
   "source": [
    "import glob\n",
    "import pandas as pd\n",
    "import geopandas as gpd\n",
    "import h3\n",
    "import pyproj\n",
    "from shapely.geometry import Polygon\n",
    "import filenames\n",
    "from satellite_images_nso_tif_model_iterator.h3_hexagons.nso_tif_model_iterater_hexagon_output import output_h3_hexagons_from_pixels"
   ]
  },
  {
   "cell_type": "code",
   "execution_count": 2,
   "metadata": {},
   "outputs": [],
   "source": [
    "# Point this to a pixel geopoint label predicted file.\n",
    "file_path = \"E:/output/nieuwkoopse_plassen/*ndwi*.parquet\""
   ]
  },
  {
   "cell_type": "code",
   "execution_count": 3,
   "metadata": {},
   "outputs": [
    {
     "name": "stdout",
     "output_type": "stream",
     "text": [
      "E:/output/nieuwkoopse_plassen\\20190302_113613_SV1-02_50cm_RD_11bit_RGBI_Mijdrecht_Nieuwkoopse_Plassen_De_Haeck_cropped_ndwi_re_ndvi.parquet\n",
      "E:/output/nieuwkoopse_plassen\\20190409_111030_SV1-04_50cm_RD_11bit_RGBI_Mijdrecht_Nieuwkoopse_Plassen_De_Haeck_cropped_ndwi_ndvi.parquet\n",
      "E:/output/nieuwkoopse_plassen\\20190523_111841_SV1-04_50cm_RD_11bit_RGBI_Mijdrecht_Nieuwkoopse_Plassen_De_Haeck_cropped_ndwi_ndvi.parquet\n",
      "E:/output/nieuwkoopse_plassen\\20190629_113712_SV1-02_50cm_RD_11bit_RGBI_Mijdrecht_Nieuwkoopse_Plassen_De_Haeck_cropped_ndwi_ndvi.parquet\n",
      "E:/output/nieuwkoopse_plassen\\20190629_113714_SV1-02_50cm_RD_11bit_RGBI_Woerden_Nieuwkoopse_Plassen_De_Haeck_cropped_ndwi_ndvi.parquet\n",
      "E:/output/nieuwkoopse_plassen\\20190826_111247_SV1-01_50cm_RD_11bit_RGBI_Mijdrecht_Nieuwkoopse_Plassen_De_Haeck_cropped_ndwi_ndvi.parquet\n",
      "E:/output/nieuwkoopse_plassen\\20190918_110130_SV1-01_50cm_RD_11bit_RGBI_Mijdrecht_Nieuwkoopse_Plassen_De_Haeck_cropped_ndwi_ndvi.parquet\n",
      "E:/output/nieuwkoopse_plassen\\20191003_113732_SV1-02_50cm_RD_11bit_RGBI_Nieuwveen_Nieuwkoopse_Plassen_De_Haeck_cropped_ndwi_ndvi.parquet\n",
      "E:/output/nieuwkoopse_plassen\\20191108_110730_SV1-01_50cm_RD_11bit_RGBI_Mijdrecht_Nieuwkoopse_Plassen_De_Haeck_cropped_ndwi_ndvi.parquet\n",
      "E:/output/nieuwkoopse_plassen\\20191108_110732_SV1-01_50cm_RD_11bit_RGBI_Oudewater_Nieuwkoopse_Plassen_De_Haeck_cropped_ndwi_ndvi.parquet\n",
      "E:/output/nieuwkoopse_plassen\\20200713_111443_SV1-04_SV_RD_11bit_RGBI_50cm_Nieuwveen_Nieuwkoopse Plassen & De Haeck_cropped_ndwi_re_ndvi.parquet\n",
      "E:/output/nieuwkoopse_plassen\\20200713_111445_SV1-04_SV_RD_11bit_RGBI_50cm_Boskoop_Nieuwkoopse Plassen & De Haeck_cropped_ndwi_re_ndvi.parquet\n",
      "E:/output/nieuwkoopse_plassen\\20200812_111845_SV1-02_SV_RD_11bit_RGBI_50cm_VinkeveensePlassen_Nieuwkoopse Plassen & De Haeck_cropped_ndwi_re_ndvi.parquet\n",
      "E:/output/nieuwkoopse_plassen\\20210423_111111_SV1-04_SV_RD_11bit_RGBI_50cm_Nieuwkoop_Nieuwkoopse_Plassen_De_Haeck_cropped_ndwi_ndvi.parquet\n",
      "E:/output/nieuwkoopse_plassen\\20210614_111316_SV1-03_SV_RD_11bit_RGBI_50cm_Nieuwveen_Nieuwkoopse Plassen & De Haeck_cropped_ndwi_re_ndvi.parquet\n",
      "E:/output/nieuwkoopse_plassen\\20210614_111318_SV1-03_SV_RD_11bit_RGBI_50cm_Boskoop_Nieuwkoopse Plassen & De Haeck_cropped_ndwi_re_ndvi.parquet\n",
      "E:/output/nieuwkoopse_plassen\\20210617_111534_SV1-04_SV_RD_11bit_RGBI_50cm_Woerden_Nieuwkoopse Plassen & De Haeck_cropped_ndwi_re_ndvi.parquet\n",
      "E:/output/nieuwkoopse_plassen\\20211129_103911_SV1-01_SV_RD_11bit_RGBI_50cm_Mijdrecht_Nieuwkoopse_Plassen_De_Haeck_cropped_ndwi_ndvi.parquet\n",
      "E:/output/nieuwkoopse_plassen\\20220318_114608_SV1-02_SV_RD_11bit_RGBI_50cm_Bodegraven_Nieuwkoopse_Plassen_De_Haeck_cropped_ndwi_ndvi.parquet\n",
      "E:/output/nieuwkoopse_plassen\\20220803_105908_SV2-01_SV_RD_11bit_RGBI_50cm_Boskoop_Nieuwkoopse_Plassen_De_Haeck_cropped_ndwi_ndvi.parquet\n",
      "E:/output/nieuwkoopse_plassen\\20220811_110734_SV1-04_SV_RD_11bit_RGBI_50cm_Mijdrecht_Nieuwkoopse_Plassen_De_Haeck_cropped_ndwi_ndvi.parquet\n",
      "E:/output/nieuwkoopse_plassen\\20221012_104900_SV2-01_SV_RD_11bit_RGBI_50cm_Nieuwveen_Nieuwkoopse_Plassen_De_Haeck_cropped_ndwi_ndvi.parquet\n",
      "E:/output/nieuwkoopse_plassen\\20221012_104902_SV2-01_SV_RD_11bit_RGBI_50cm_Bodegraven_Nieuwkoopse_Plassen_De_Haeck_cropped_ndwi_ndvi.parquet\n",
      "E:/output/nieuwkoopse_plassen\\20230603_104624_PNEO-03_1_1_30cm_RD_12bit_RGBNED_Uithoorn_Nieuwkoopse_Plassen_De_Haeck_cropped_ndwi_re_ndvi.parquet\n",
      "E:/output/nieuwkoopse_plassen\\20230905_105231_PNEO-03_1_1_30cm_RD_12bit_RGBNED_Uithoorn_Nieuwkoopse_Plassen_De_Haeck_cropped_ndwi_re_ndvi.parquet\n"
     ]
    }
   ],
   "source": [
    "for afile in glob.glob(file_path):\n",
    "    print(afile)"
   ]
  },
  {
   "cell_type": "code",
   "execution_count": 3,
   "metadata": {},
   "outputs": [],
   "source": [
    "for afile in glob.glob(file_path):\n",
    "    afile = afile.replace(\"\\\\\",\"/\")\n",
    "    output_h3_hexagons_from_pixels(afile, 14)"
   ]
  }
 ],
 "metadata": {
  "kernelspec": {
   "display_name": "Python 3",
   "language": "python",
   "name": "python3"
  },
  "language_info": {
   "codemirror_mode": {
    "name": "ipython",
    "version": 3
   },
   "file_extension": ".py",
   "mimetype": "text/x-python",
   "name": "python",
   "nbconvert_exporter": "python",
   "pygments_lexer": "ipython3",
   "version": "3.12.1"
  }
 },
 "nbformat": 4,
 "nbformat_minor": 2
}
