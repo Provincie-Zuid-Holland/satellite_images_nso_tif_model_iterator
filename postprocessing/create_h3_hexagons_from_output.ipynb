{
 "cells": [
  {
   "cell_type": "code",
   "execution_count": 1,
   "metadata": {},
   "outputs": [],
   "source": [
    "import glob\n",
    "import pandas as pd\n",
    "import geopandas as gpd\n",
    "import h3\n",
    "import pyproj\n",
    "from shapely.geometry import Polygon\n",
    "import filenames\n",
    "from h3_hexagons.nso_tif_model_iterater_hexagon_output import output_h3_hexagons_from_pixels"
   ]
  },
  {
   "cell_type": "code",
   "execution_count": 2,
   "metadata": {},
   "outputs": [],
   "source": [
    "# Point this to a pixel geopoint label predicted file.\n",
    "file_path = \"E:/output/nieuwkoopse_plassen/2023*.parquet\""
   ]
  },
  {
   "cell_type": "code",
   "execution_count": 3,
   "metadata": {},
   "outputs": [],
   "source": [
    "for afile in glob.glob(file_path):\n",
    "    afile = afile.replace(\"\\\\\",\"/\")\n",
    "    output_h3_hexagons_from_pixels(afile, 12)"
   ]
  }
 ],
 "metadata": {
  "kernelspec": {
   "display_name": "Python 3",
   "language": "python",
   "name": "python3"
  },
  "language_info": {
   "codemirror_mode": {
    "name": "ipython",
    "version": 3
   },
   "file_extension": ".py",
   "mimetype": "text/x-python",
   "name": "python",
   "nbconvert_exporter": "python",
   "pygments_lexer": "ipython3",
   "version": "3.12.1"
  }
 },
 "nbformat": 4,
 "nbformat_minor": 2
}
